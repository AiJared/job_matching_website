{
  "cells": [
    {
      "cell_type": "markdown",
      "metadata": {
        "colab_type": "text",
        "id": "view-in-github"
      },
      "source": [
        "<a href=\"https://colab.research.google.com/github/AiJared/job_matching_model/blob/main/job_matching.ipynb\" target=\"_parent\"><img src=\"https://colab.research.google.com/assets/colab-badge.svg\" alt=\"Open In Colab\"/></a>"
      ]
    },
    {
      "cell_type": "code",
      "execution_count": 14,
      "metadata": {
        "colab": {
          "base_uri": "https://localhost:8080/"
        },
        "id": "_PbiKW1fhtq6",
        "outputId": "eaf9d9c6-b6dd-427e-b1a0-474261042976"
      },
      "outputs": [
        {
          "name": "stdout",
          "output_type": "stream",
          "text": [
            "TensorFlow version: 2.18.0\n"
          ]
        }
      ],
      "source": [
        "# Import required libraries\n",
        "import numpy as np\n",
        "import pandas as pd\n",
        "import tensorflow as tf\n",
        "import matplotlib.pyplot as plt\n",
        "import seaborn as sns\n",
        "import pickle\n",
        "import os\n",
        "from sklearn.model_selection import train_test_split\n",
        "from sklearn.preprocessing import OneHotEncoder, StandardScaler\n",
        "from sklearn.feature_extraction.text import TfidfVectorizer\n",
        "from sklearn.pipeline import Pipeline\n",
        "from sklearn.compose import ColumnTransformer\n",
        "\n",
        "# Check TensorFlow version\n",
        "print(f\"TensorFlow version: {tf.__version__}\")"
      ]
    },
    {
      "cell_type": "code",
      "execution_count": 15,
      "metadata": {
        "colab": {
          "base_uri": "https://localhost:8080/"
        },
        "id": "lO9twjh3LPRD",
        "outputId": "3a609262-33f9-4479-b5d3-a78dc29c86bf"
      },
      "outputs": [],
      "source": [
        "# First, mount Google Drive\n",
        "# from google.colab import drive\n",
        "# drive.mount('/content/drive')"
      ]
    },
    {
      "cell_type": "code",
      "execution_count": 16,
      "metadata": {
        "colab": {
          "base_uri": "https://localhost:8080/"
        },
        "id": "GD-UWJV_jlDo",
        "outputId": "09b93539-45c7-49e9-a9c9-f2489e114340"
      },
      "outputs": [
        {
          "name": "stdout",
          "output_type": "stream",
          "text": [
            "Candidates DataFrame Info:\n",
            "<class 'pandas.core.frame.DataFrame'>\n",
            "RangeIndex: 1500 entries, 0 to 1499\n",
            "Data columns (total 7 columns):\n",
            " #   Column        Non-Null Count  Dtype \n",
            "---  ------        --------------  ----- \n",
            " 0   id            1500 non-null   int64 \n",
            " 1   skills        1500 non-null   object\n",
            " 2   experience    1500 non-null   int64 \n",
            " 3   education     1500 non-null   object\n",
            " 4   location      1500 non-null   object\n",
            " 5   career_field  1500 non-null   object\n",
            " 6   relocation    1500 non-null   bool  \n",
            "dtypes: bool(1), int64(2), object(4)\n",
            "memory usage: 71.9+ KB\n",
            "None\n",
            "\n",
            "Jobs DataFrame Info:\n",
            "<class 'pandas.core.frame.DataFrame'>\n",
            "RangeIndex: 1000 entries, 0 to 999\n",
            "Data columns (total 9 columns):\n",
            " #   Column              Non-Null Count  Dtype \n",
            "---  ------              --------------  ----- \n",
            " 0   id                  1000 non-null   int64 \n",
            " 1   title               1000 non-null   object\n",
            " 2   required_skills     1000 non-null   object\n",
            " 3   min_experience      1000 non-null   int64 \n",
            " 4   required_education  1000 non-null   object\n",
            " 5   location            1000 non-null   object\n",
            " 6   career_field        1000 non-null   object\n",
            " 7   salary              1000 non-null   int64 \n",
            " 8   job_type            1000 non-null   object\n",
            "dtypes: int64(3), object(6)\n",
            "memory usage: 70.4+ KB\n",
            "None\n",
            "\n",
            "Matches DataFrame Info:\n",
            "<class 'pandas.core.frame.DataFrame'>\n",
            "RangeIndex: 3000 entries, 0 to 2999\n",
            "Data columns (total 8 columns):\n",
            " #   Column        Non-Null Count  Dtype  \n",
            "---  ------        --------------  -----  \n",
            " 0   candidate_id  3000 non-null   int64  \n",
            " 1   job_id        3000 non-null   int64  \n",
            " 2   match_score   3000 non-null   float64\n",
            " 3   skill_match   3000 non-null   float64\n",
            " 4   exp_match     3000 non-null   float64\n",
            " 5   edu_match     3000 non-null   float64\n",
            " 6   loc_match     3000 non-null   float64\n",
            " 7   field_match   3000 non-null   float64\n",
            "dtypes: float64(6), int64(2)\n",
            "memory usage: 187.6 KB\n",
            "None\n"
          ]
        }
      ],
      "source": [
        "# Load actual data (uncomment and modify for your actual data)\n",
        "\n",
        "# Load your actual data\n",
        "candidates_df = pd.read_csv('D:/Projects/DJ/job_matching/website/job_matching/ai/candidates.csv')\n",
        "jobs_df = pd.read_csv('D:/Projects/DJ/job_matching/website/job_matching/ai/jobs.csv')\n",
        "matches_df = pd.read_csv('D:/Projects/DJ/job_matching/website/job_matching/ai/matches.csv')\n",
        "\n",
        "# Display basic statistics\n",
        "print(\"Candidates DataFrame Info:\")\n",
        "print(candidates_df.info())\n",
        "print(\"\\nJobs DataFrame Info:\")\n",
        "print(jobs_df.info())\n",
        "print(\"\\nMatches DataFrame Info:\")\n",
        "print(matches_df.info())"
      ]
    },
    {
      "cell_type": "code",
      "execution_count": 17,
      "metadata": {
        "colab": {
          "base_uri": "https://localhost:8080/",
          "height": 1000
        },
        "id": "L5WTwom7uyEV",
        "outputId": "49cb09b7-b96c-412b-e875-ec15f303304d"
      },
      "outputs": [
        {
          "data": {
            "image/png": "[encoded data removed]",
            "text/plain": [
              "<Figure size 1000x600 with 1 Axes>"
            ]
          },
          "metadata": {},
          "output_type": "display_data"
        },
        {
          "data": {
            "image/png": "[encoded data removed]",
            "text/plain": [
              "<Figure size 1000x600 with 1 Axes>"
            ]
          },
          "metadata": {},
          "output_type": "display_data"
        },
        {
          "data": {
            "image/png": "[encoded data removed]",
            "text/plain": [
              "<Figure size 1000x600 with 1 Axes>"
            ]
          },
          "metadata": {},
          "output_type": "display_data"
        }
      ],
      "source": [
        "# Data Exploration and Visualization\n",
        "# Explore the distribution of match scores\n",
        "plt.figure(figsize=(10, 6))\n",
        "sns.histplot(matches_df['match_score'], bins=20)\n",
        "plt.title('Distribution of Match Scores')\n",
        "plt.xlabel('Match Score')\n",
        "plt.ylabel('Frequency')\n",
        "plt.show()\n",
        "\n",
        "# Explore candidate experience distribution\n",
        "plt.figure(figsize=(10, 6))\n",
        "sns.countplot(x='experience', data=candidates_df)\n",
        "plt.title('Distribution of Candidate Experience')\n",
        "plt.xlabel('Years of Experience')\n",
        "plt.ylabel('Count')\n",
        "plt.show()\n",
        "\n",
        "# Explore education distribution\n",
        "plt.figure(figsize=(10, 6))\n",
        "sns.countplot(x='education', data=candidates_df)\n",
        "plt.title('Distribution of Education Levels')\n",
        "plt.xlabel('Education Level')\n",
        "plt.ylabel('Count')\n",
        "plt.show()"
      ]
    },
    {
      "cell_type": "code",
      "execution_count": 18,
      "metadata": {
        "id": "cYPhE8NM81we"
      },
      "outputs": [],
      "source": [
        "# Feature Engineering - Creating Preprocessing Pipelines\n",
        "\n",
        "# Create preprocessing pipelines for candidates\n",
        "def create_candidate_preprocessor(candidates_df):\n",
        "    # Define different transformers for different types of features\n",
        "\n",
        "    # Text features - convert skills to TF-IDF vectors\n",
        "    text_transformer = Pipeline([\n",
        "        ('tfidf', TfidfVectorizer(max_features=100, stop_words='english'))\n",
        "    ])\n",
        "\n",
        "    # Categorical features - one-hot encode education and location\n",
        "    categorical_transformer = Pipeline([\n",
        "        ('onehot', OneHotEncoder(handle_unknown='ignore'))\n",
        "    ])\n",
        "\n",
        "    # Numeric features - scale experience\n",
        "    numeric_transformer = Pipeline([\n",
        "        ('scaler', StandardScaler())\n",
        "    ])\n",
        "\n",
        "    # Combine transformers using ColumnTransformer\n",
        "    candidate_preprocessor = ColumnTransformer(\n",
        "        transformers=[\n",
        "            ('text', text_transformer, 'skills'),\n",
        "            ('cat', categorical_transformer, ['education', 'location']),\n",
        "            ('num', numeric_transformer, ['experience'])\n",
        "        ],\n",
        "        remainder='drop'  # Drop other columns not specified\n",
        "    )\n",
        "\n",
        "    # Fit the preprocessor on candidates data\n",
        "    candidate_preprocessor.fit(candidates_df)\n",
        "\n",
        "    return candidate_preprocessor\n",
        "\n",
        "# Create preprocessing pipelines for jobs\n",
        "def create_job_preprocessor(jobs_df):\n",
        "    # Define different transformers for different types of features\n",
        "\n",
        "    # Text features - convert required skills and title to TF-IDF vectors\n",
        "    text_transformer = Pipeline([\n",
        "        ('tfidf', TfidfVectorizer(max_features=100, stop_words='english'))\n",
        "    ])\n",
        "\n",
        "    # Text features for job title\n",
        "    title_transformer = Pipeline([\n",
        "        ('tfidf', TfidfVectorizer(max_features=50, stop_words='english'))\n",
        "    ])\n",
        "\n",
        "    # Categorical features - one-hot encode education and location\n",
        "    categorical_transformer = Pipeline([\n",
        "        ('onehot', OneHotEncoder(handle_unknown='ignore'))\n",
        "    ])\n",
        "\n",
        "    # Numeric features - scale minimum experience\n",
        "    numeric_transformer = Pipeline([\n",
        "        ('scaler', StandardScaler())\n",
        "    ])\n",
        "\n",
        "    # Combine transformers using ColumnTransformer\n",
        "    job_preprocessor = ColumnTransformer(\n",
        "        transformers=[\n",
        "            ('skills_text', text_transformer, 'required_skills'),\n",
        "            ('title_text', title_transformer, 'title'),\n",
        "            ('cat', categorical_transformer, ['required_education', 'location']),\n",
        "            ('num', numeric_transformer, ['min_experience'])\n",
        "        ],\n",
        "        remainder='drop'  # Drop other columns not specified\n",
        "    )\n",
        "\n",
        "    # Fit the preprocessor on jobs data\n",
        "    job_preprocessor.fit(jobs_df)\n",
        "\n",
        "    return job_preprocessor\n",
        "\n",
        "# Create and fit preprocessors\n",
        "candidate_preprocessor = create_candidate_preprocessor(candidates_df)\n",
        "job_preprocessor = create_job_preprocessor(jobs_df)"
      ]
    },
    {
      "cell_type": "code",
      "execution_count": 19,
      "metadata": {
        "colab": {
          "base_uri": "https://localhost:8080/"
        },
        "id": "Kei4Pm8I8sf1",
        "outputId": "e2070007-9107-41fe-8ec7-de70a27fd08d"
      },
      "outputs": [
        {
          "name": "stdout",
          "output_type": "stream",
          "text": [
            "Candidate features shape: (1500, 142)\n",
            "Job features shape: (1000, 192)\n"
          ]
        }
      ],
      "source": [
        "# Transform the data using preprocessors\n",
        "\n",
        "# Transform candidate data\n",
        "candidate_features = candidate_preprocessor.transform(candidates_df)\n",
        "print(f\"Candidate features shape: {candidate_features.shape}\")\n",
        "\n",
        "# Transform job data\n",
        "job_features = job_preprocessor.transform(jobs_df)\n",
        "print(f\"Job features shape: {job_features.shape}\")"
      ]
    },
    {
      "cell_type": "code",
      "execution_count": 20,
      "metadata": {
        "colab": {
          "base_uri": "https://localhost:8080/"
        },
        "id": "tHFKz02K8_1j",
        "outputId": "5b206c38-ef4a-4230-ca40-0af557c4ec8d"
      },
      "outputs": [
        {
          "name": "stdout",
          "output_type": "stream",
          "text": [
            "Number of training pairs: 2400\n",
            "Number of validation pairs: 600\n"
          ]
        }
      ],
      "source": [
        "# Prepare training data\n",
        "\n",
        "def prepare_training_data(matches_df, candidates_df, jobs_df, candidate_features, job_features):\n",
        "    # Create indices for faster lookups\n",
        "    candidate_indices = {candidate_id: idx for idx, candidate_id in enumerate(candidates_df['id'])}\n",
        "    job_indices = {job_id: idx for idx, job_id in enumerate(jobs_df['id'])}\n",
        "\n",
        "    # Create training pairs and scores\n",
        "    train_pairs = []\n",
        "    match_scores = []\n",
        "\n",
        "    for _, row in matches_df.iterrows():\n",
        "        if row['candidate_id'] in candidate_indices and row['job_id'] in job_indices:\n",
        "            candidate_idx = candidate_indices[row['candidate_id']]\n",
        "            job_idx = job_indices[row['job_id']]\n",
        "\n",
        "            train_pairs.append((candidate_idx, job_idx))\n",
        "            match_scores.append(row['match_score'])\n",
        "\n",
        "    # Convert to numpy arrays\n",
        "    train_pairs = np.array(train_pairs)\n",
        "    match_scores = np.array(match_scores)\n",
        "\n",
        "    # Split into training and validation sets\n",
        "    train_indices, val_indices = train_test_split(\n",
        "        np.arange(len(train_pairs)),\n",
        "        test_size=0.2,\n",
        "        random_state=42\n",
        "    )\n",
        "\n",
        "    return train_pairs, match_scores, train_indices, val_indices\n",
        "\n",
        "# Prepare training data\n",
        "train_pairs, match_scores, train_indices, val_indices = prepare_training_data(\n",
        "    matches_df, candidates_df, jobs_df, candidate_features, job_features\n",
        ")\n",
        "\n",
        "print(f\"Number of training pairs: {len(train_indices)}\")\n",
        "print(f\"Number of validation pairs: {len(val_indices)}\")"
      ]
    },
    {
      "cell_type": "code",
      "execution_count": 21,
      "metadata": {
        "colab": {
          "base_uri": "https://localhost:8080/",
          "height": 1000
        },
        "id": "h0ENuwHR9Rlp",
        "outputId": "226ce5be-b790-4554-bcf7-c84917438969"
      },
      "outputs": [
        {
          "name": "stdout",
          "output_type": "stream",
          "text": [
            "Matching Model Summary:\n"
          ]
        },
        {
          "data": {
            "text/html": [
              "<pre style=\"white-space:pre;overflow-x:auto;line-height:normal;font-family:Menlo,'DejaVu Sans Mono',consolas,'Courier New',monospace\"><span style=\"font-weight: bold\">Model: \"matching_model\"</span>\n",
              "</pre>\n"
            ],
            "text/plain": [
              "\u001b[1mModel: \"matching_model\"\u001b[0m\n"
            ]
          },
          "metadata": {},
          "output_type": "display_data"
        },
        {
          "data": {
            "text/html": [
              "<pre style=\"white-space:pre;overflow-x:auto;line-height:normal;font-family:Menlo,'DejaVu Sans Mono',consolas,'Courier New',monospace\">┏━━━━━━━━━━━━━━━━━━━━━┳━━━━━━━━━━━━━━━━━━━┳━━━━━━━━━━━━┳━━━━━━━━━━━━━━━━━━━┓\n",
              "┃<span style=\"font-weight: bold\"> Layer (type)        </span>┃<span style=\"font-weight: bold\"> Output Shape      </span>┃<span style=\"font-weight: bold\">    Param # </span>┃<span style=\"font-weight: bold\"> Connected to      </span>┃\n",
              "┡━━━━━━━━━━━━━━━━━━━━━╇━━━━━━━━━━━━━━━━━━━╇━━━━━━━━━━━━╇━━━━━━━━━━━━━━━━━━━┩\n",
              "│ candidate_input     │ (<span style=\"color: #00d7ff; text-decoration-color: #00d7ff\">None</span>, <span style=\"color: #00af00; text-decoration-color: #00af00\">142</span>)       │          <span style=\"color: #00af00; text-decoration-color: #00af00\">0</span> │ -                 │\n",
              "│ (<span style=\"color: #0087ff; text-decoration-color: #0087ff\">InputLayer</span>)        │                   │            │                   │\n",
              "├─────────────────────┼───────────────────┼────────────┼───────────────────┤\n",
              "│ job_input           │ (<span style=\"color: #00d7ff; text-decoration-color: #00d7ff\">None</span>, <span style=\"color: #00af00; text-decoration-color: #00af00\">192</span>)       │          <span style=\"color: #00af00; text-decoration-color: #00af00\">0</span> │ -                 │\n",
              "│ (<span style=\"color: #0087ff; text-decoration-color: #0087ff\">InputLayer</span>)        │                   │            │                   │\n",
              "├─────────────────────┼───────────────────┼────────────┼───────────────────┤\n",
              "│ candidate_encoder   │ (<span style=\"color: #00d7ff; text-decoration-color: #00d7ff\">None</span>, <span style=\"color: #00af00; text-decoration-color: #00af00\">128</span>)       │     <span style=\"color: #00af00; text-decoration-color: #00af00\">86,016</span> │ candidate_input[<span style=\"color: #00af00; text-decoration-color: #00af00\">…</span> │\n",
              "│ (<span style=\"color: #0087ff; text-decoration-color: #0087ff\">Functional</span>)        │                   │            │                   │\n",
              "├─────────────────────┼───────────────────┼────────────┼───────────────────┤\n",
              "│ job_encoder         │ (<span style=\"color: #00d7ff; text-decoration-color: #00d7ff\">None</span>, <span style=\"color: #00af00; text-decoration-color: #00af00\">128</span>)       │     <span style=\"color: #00af00; text-decoration-color: #00af00\">98,816</span> │ job_input[<span style=\"color: #00af00; text-decoration-color: #00af00\">0</span>][<span style=\"color: #00af00; text-decoration-color: #00af00\">0</span>]   │\n",
              "│ (<span style=\"color: #0087ff; text-decoration-color: #0087ff\">Functional</span>)        │                   │            │                   │\n",
              "├─────────────────────┼───────────────────┼────────────┼───────────────────┤\n",
              "│ lambda_2 (<span style=\"color: #0087ff; text-decoration-color: #0087ff\">Lambda</span>)   │ (<span style=\"color: #00d7ff; text-decoration-color: #00d7ff\">None</span>, <span style=\"color: #00af00; text-decoration-color: #00af00\">128</span>)       │          <span style=\"color: #00af00; text-decoration-color: #00af00\">0</span> │ candidate_encode… │\n",
              "├─────────────────────┼───────────────────┼────────────┼───────────────────┤\n",
              "│ lambda_3 (<span style=\"color: #0087ff; text-decoration-color: #0087ff\">Lambda</span>)   │ (<span style=\"color: #00d7ff; text-decoration-color: #00d7ff\">None</span>, <span style=\"color: #00af00; text-decoration-color: #00af00\">128</span>)       │          <span style=\"color: #00af00; text-decoration-color: #00af00\">0</span> │ job_encoder[<span style=\"color: #00af00; text-decoration-color: #00af00\">0</span>][<span style=\"color: #00af00; text-decoration-color: #00af00\">0</span>] │\n",
              "├─────────────────────┼───────────────────┼────────────┼───────────────────┤\n",
              "│ dot_1 (<span style=\"color: #0087ff; text-decoration-color: #0087ff\">Dot</span>)         │ (<span style=\"color: #00d7ff; text-decoration-color: #00d7ff\">None</span>, <span style=\"color: #00af00; text-decoration-color: #00af00\">1</span>)         │          <span style=\"color: #00af00; text-decoration-color: #00af00\">0</span> │ lambda_2[<span style=\"color: #00af00; text-decoration-color: #00af00\">0</span>][<span style=\"color: #00af00; text-decoration-color: #00af00\">0</span>],   │\n",
              "│                     │                   │            │ lambda_3[<span style=\"color: #00af00; text-decoration-color: #00af00\">0</span>][<span style=\"color: #00af00; text-decoration-color: #00af00\">0</span>]    │\n",
              "├─────────────────────┼───────────────────┼────────────┼───────────────────┤\n",
              "│ dense_13 (<span style=\"color: #0087ff; text-decoration-color: #0087ff\">Dense</span>)    │ (<span style=\"color: #00d7ff; text-decoration-color: #00d7ff\">None</span>, <span style=\"color: #00af00; text-decoration-color: #00af00\">1</span>)         │          <span style=\"color: #00af00; text-decoration-color: #00af00\">2</span> │ dot_1[<span style=\"color: #00af00; text-decoration-color: #00af00\">0</span>][<span style=\"color: #00af00; text-decoration-color: #00af00\">0</span>]       │\n",
              "└─────────────────────┴───────────────────┴────────────┴───────────────────┘\n",
              "</pre>\n"
            ],
            "text/plain": [
              "┏━━━━━━━━━━━━━━━━━━━━━┳━━━━━━━━━━━━━━━━━━━┳━━━━━━━━━━━━┳━━━━━━━━━━━━━━━━━━━┓\n",
              "┃\u001b[1m \u001b[0m\u001b[1mLayer (type)       \u001b[0m\u001b[1m \u001b[0m┃\u001b[1m \u001b[0m\u001b[1mOutput Shape     \u001b[0m\u001b[1m \u001b[0m┃\u001b[1m \u001b[0m\u001b[1m   Param #\u001b[0m\u001b[1m \u001b[0m┃\u001b[1m \u001b[0m\u001b[1mConnected to     \u001b[0m\u001b[1m \u001b[0m┃\n",
              "┡━━━━━━━━━━━━━━━━━━━━━╇━━━━━━━━━━━━━━━━━━━╇━━━━━━━━━━━━╇━━━━━━━━━━━━━━━━━━━┩\n",
              "│ candidate_input     │ (\u001b[38;5;45mNone\u001b[0m, \u001b[38;5;34m142\u001b[0m)       │          \u001b[38;5;34m0\u001b[0m │ -                 │\n",
              "│ (\u001b[38;5;33mInputLayer\u001b[0m)        │                   │            │                   │\n",
              "├─────────────────────┼───────────────────┼────────────┼───────────────────┤\n",
              "│ job_input           │ (\u001b[38;5;45mNone\u001b[0m, \u001b[38;5;34m192\u001b[0m)       │          \u001b[38;5;34m0\u001b[0m │ -                 │\n",
              "│ (\u001b[38;5;33mInputLayer\u001b[0m)        │                   │            │                   │\n",
              "├─────────────────────┼───────────────────┼────────────┼───────────────────┤\n",
              "│ candidate_encoder   │ (\u001b[38;5;45mNone\u001b[0m, \u001b[38;5;34m128\u001b[0m)       │     \u001b[38;5;34m86,016\u001b[0m │ candidate_input[\u001b[38;5;34m…\u001b[0m │\n",
              "│ (\u001b[38;5;33mFunctional\u001b[0m)        │                   │            │                   │\n",
              "├─────────────────────┼───────────────────┼────────────┼───────────────────┤\n",
              "│ job_encoder         │ (\u001b[38;5;45mNone\u001b[0m, \u001b[38;5;34m128\u001b[0m)       │     \u001b[38;5;34m98,816\u001b[0m │ job_input[\u001b[38;5;34m0\u001b[0m][\u001b[38;5;34m0\u001b[0m]   │\n",
              "│ (\u001b[38;5;33mFunctional\u001b[0m)        │                   │            │                   │\n",
              "├─────────────────────┼───────────────────┼────────────┼───────────────────┤\n",
              "│ lambda_2 (\u001b[38;5;33mLambda\u001b[0m)   │ (\u001b[38;5;45mNone\u001b[0m, \u001b[38;5;34m128\u001b[0m)       │          \u001b[38;5;34m0\u001b[0m │ candidate_encode… │\n",
              "├─────────────────────┼───────────────────┼────────────┼───────────────────┤\n",
              "│ lambda_3 (\u001b[38;5;33mLambda\u001b[0m)   │ (\u001b[38;5;45mNone\u001b[0m, \u001b[38;5;34m128\u001b[0m)       │          \u001b[38;5;34m0\u001b[0m │ job_encoder[\u001b[38;5;34m0\u001b[0m][\u001b[38;5;34m0\u001b[0m] │\n",
              "├─────────────────────┼───────────────────┼────────────┼───────────────────┤\n",
              "│ dot_1 (\u001b[38;5;33mDot\u001b[0m)         │ (\u001b[38;5;45mNone\u001b[0m, \u001b[38;5;34m1\u001b[0m)         │          \u001b[38;5;34m0\u001b[0m │ lambda_2[\u001b[38;5;34m0\u001b[0m][\u001b[38;5;34m0\u001b[0m],   │\n",
              "│                     │                   │            │ lambda_3[\u001b[38;5;34m0\u001b[0m][\u001b[38;5;34m0\u001b[0m]    │\n",
              "├─────────────────────┼───────────────────┼────────────┼───────────────────┤\n",
              "│ dense_13 (\u001b[38;5;33mDense\u001b[0m)    │ (\u001b[38;5;45mNone\u001b[0m, \u001b[38;5;34m1\u001b[0m)         │          \u001b[38;5;34m2\u001b[0m │ dot_1[\u001b[38;5;34m0\u001b[0m][\u001b[38;5;34m0\u001b[0m]       │\n",
              "└─────────────────────┴───────────────────┴────────────┴───────────────────┘\n"
            ]
          },
          "metadata": {},
          "output_type": "display_data"
        },
        {
          "data": {
            "text/html": [
              "<pre style=\"white-space:pre;overflow-x:auto;line-height:normal;font-family:Menlo,'DejaVu Sans Mono',consolas,'Courier New',monospace\"><span style=\"font-weight: bold\"> Total params: </span><span style=\"color: #00af00; text-decoration-color: #00af00\">184,834</span> (722.01 KB)\n",
              "</pre>\n"
            ],
            "text/plain": [
              "\u001b[1m Total params: \u001b[0m\u001b[38;5;34m184,834\u001b[0m (722.01 KB)\n"
            ]
          },
          "metadata": {},
          "output_type": "display_data"
        },
        {
          "data": {
            "text/html": [
              "<pre style=\"white-space:pre;overflow-x:auto;line-height:normal;font-family:Menlo,'DejaVu Sans Mono',consolas,'Courier New',monospace\"><span style=\"font-weight: bold\"> Trainable params: </span><span style=\"color: #00af00; text-decoration-color: #00af00\">184,834</span> (722.01 KB)\n",
              "</pre>\n"
            ],
            "text/plain": [
              "\u001b[1m Trainable params: \u001b[0m\u001b[38;5;34m184,834\u001b[0m (722.01 KB)\n"
            ]
          },
          "metadata": {},
          "output_type": "display_data"
        },
        {
          "data": {
            "text/html": [
              "<pre style=\"white-space:pre;overflow-x:auto;line-height:normal;font-family:Menlo,'DejaVu Sans Mono',consolas,'Courier New',monospace\"><span style=\"font-weight: bold\"> Non-trainable params: </span><span style=\"color: #00af00; text-decoration-color: #00af00\">0</span> (0.00 B)\n",
              "</pre>\n"
            ],
            "text/plain": [
              "\u001b[1m Non-trainable params: \u001b[0m\u001b[38;5;34m0\u001b[0m (0.00 B)\n"
            ]
          },
          "metadata": {},
          "output_type": "display_data"
        },
        {
          "name": "stdout",
          "output_type": "stream",
          "text": [
            "\n",
            "Candidate Model Summary:\n"
          ]
        },
        {
          "data": {
            "text/html": [
              "<pre style=\"white-space:pre;overflow-x:auto;line-height:normal;font-family:Menlo,'DejaVu Sans Mono',consolas,'Courier New',monospace\"><span style=\"font-weight: bold\">Model: \"candidate_inference\"</span>\n",
              "</pre>\n"
            ],
            "text/plain": [
              "\u001b[1mModel: \"candidate_inference\"\u001b[0m\n"
            ]
          },
          "metadata": {},
          "output_type": "display_data"
        },
        {
          "data": {
            "text/html": [
              "<pre style=\"white-space:pre;overflow-x:auto;line-height:normal;font-family:Menlo,'DejaVu Sans Mono',consolas,'Courier New',monospace\">┏━━━━━━━━━━━━━━━━━━━━━━━━━━━━━━━━━┳━━━━━━━━━━━━━━━━━━━━━━━━┳━━━━━━━━━━━━━━━┓\n",
              "┃<span style=\"font-weight: bold\"> Layer (type)                    </span>┃<span style=\"font-weight: bold\"> Output Shape           </span>┃<span style=\"font-weight: bold\">       Param # </span>┃\n",
              "┡━━━━━━━━━━━━━━━━━━━━━━━━━━━━━━━━━╇━━━━━━━━━━━━━━━━━━━━━━━━╇━━━━━━━━━━━━━━━┩\n",
              "│ candidate_input (<span style=\"color: #0087ff; text-decoration-color: #0087ff\">InputLayer</span>)    │ (<span style=\"color: #00d7ff; text-decoration-color: #00d7ff\">None</span>, <span style=\"color: #00af00; text-decoration-color: #00af00\">142</span>)            │             <span style=\"color: #00af00; text-decoration-color: #00af00\">0</span> │\n",
              "├─────────────────────────────────┼────────────────────────┼───────────────┤\n",
              "│ candidate_encoder (<span style=\"color: #0087ff; text-decoration-color: #0087ff\">Functional</span>)  │ (<span style=\"color: #00d7ff; text-decoration-color: #00d7ff\">None</span>, <span style=\"color: #00af00; text-decoration-color: #00af00\">128</span>)            │        <span style=\"color: #00af00; text-decoration-color: #00af00\">86,016</span> │\n",
              "├─────────────────────────────────┼────────────────────────┼───────────────┤\n",
              "│ lambda_2 (<span style=\"color: #0087ff; text-decoration-color: #0087ff\">Lambda</span>)               │ (<span style=\"color: #00d7ff; text-decoration-color: #00d7ff\">None</span>, <span style=\"color: #00af00; text-decoration-color: #00af00\">128</span>)            │             <span style=\"color: #00af00; text-decoration-color: #00af00\">0</span> │\n",
              "└─────────────────────────────────┴────────────────────────┴───────────────┘\n",
              "</pre>\n"
            ],
            "text/plain": [
              "┏━━━━━━━━━━━━━━━━━━━━━━━━━━━━━━━━━┳━━━━━━━━━━━━━━━━━━━━━━━━┳━━━━━━━━━━━━━━━┓\n",
              "┃\u001b[1m \u001b[0m\u001b[1mLayer (type)                   \u001b[0m\u001b[1m \u001b[0m┃\u001b[1m \u001b[0m\u001b[1mOutput Shape          \u001b[0m\u001b[1m \u001b[0m┃\u001b[1m \u001b[0m\u001b[1m      Param #\u001b[0m\u001b[1m \u001b[0m┃\n",
              "┡━━━━━━━━━━━━━━━━━━━━━━━━━━━━━━━━━╇━━━━━━━━━━━━━━━━━━━━━━━━╇━━━━━━━━━━━━━━━┩\n",
              "│ candidate_input (\u001b[38;5;33mInputLayer\u001b[0m)    │ (\u001b[38;5;45mNone\u001b[0m, \u001b[38;5;34m142\u001b[0m)            │             \u001b[38;5;34m0\u001b[0m │\n",
              "├─────────────────────────────────┼────────────────────────┼───────────────┤\n",
              "│ candidate_encoder (\u001b[38;5;33mFunctional\u001b[0m)  │ (\u001b[38;5;45mNone\u001b[0m, \u001b[38;5;34m128\u001b[0m)            │        \u001b[38;5;34m86,016\u001b[0m │\n",
              "├─────────────────────────────────┼────────────────────────┼───────────────┤\n",
              "│ lambda_2 (\u001b[38;5;33mLambda\u001b[0m)               │ (\u001b[38;5;45mNone\u001b[0m, \u001b[38;5;34m128\u001b[0m)            │             \u001b[38;5;34m0\u001b[0m │\n",
              "└─────────────────────────────────┴────────────────────────┴───────────────┘\n"
            ]
          },
          "metadata": {},
          "output_type": "display_data"
        },
        {
          "data": {
            "text/html": [
              "<pre style=\"white-space:pre;overflow-x:auto;line-height:normal;font-family:Menlo,'DejaVu Sans Mono',consolas,'Courier New',monospace\"><span style=\"font-weight: bold\"> Total params: </span><span style=\"color: #00af00; text-decoration-color: #00af00\">86,016</span> (336.00 KB)\n",
              "</pre>\n"
            ],
            "text/plain": [
              "\u001b[1m Total params: \u001b[0m\u001b[38;5;34m86,016\u001b[0m (336.00 KB)\n"
            ]
          },
          "metadata": {},
          "output_type": "display_data"
        },
        {
          "data": {
            "text/html": [
              "<pre style=\"white-space:pre;overflow-x:auto;line-height:normal;font-family:Menlo,'DejaVu Sans Mono',consolas,'Courier New',monospace\"><span style=\"font-weight: bold\"> Trainable params: </span><span style=\"color: #00af00; text-decoration-color: #00af00\">86,016</span> (336.00 KB)\n",
              "</pre>\n"
            ],
            "text/plain": [
              "\u001b[1m Trainable params: \u001b[0m\u001b[38;5;34m86,016\u001b[0m (336.00 KB)\n"
            ]
          },
          "metadata": {},
          "output_type": "display_data"
        },
        {
          "data": {
            "text/html": [
              "<pre style=\"white-space:pre;overflow-x:auto;line-height:normal;font-family:Menlo,'DejaVu Sans Mono',consolas,'Courier New',monospace\"><span style=\"font-weight: bold\"> Non-trainable params: </span><span style=\"color: #00af00; text-decoration-color: #00af00\">0</span> (0.00 B)\n",
              "</pre>\n"
            ],
            "text/plain": [
              "\u001b[1m Non-trainable params: \u001b[0m\u001b[38;5;34m0\u001b[0m (0.00 B)\n"
            ]
          },
          "metadata": {},
          "output_type": "display_data"
        },
        {
          "name": "stdout",
          "output_type": "stream",
          "text": [
            "\n",
            "Job Model Summary:\n"
          ]
        },
        {
          "data": {
            "text/html": [
              "<pre style=\"white-space:pre;overflow-x:auto;line-height:normal;font-family:Menlo,'DejaVu Sans Mono',consolas,'Courier New',monospace\"><span style=\"font-weight: bold\">Model: \"job_inference\"</span>\n",
              "</pre>\n"
            ],
            "text/plain": [
              "\u001b[1mModel: \"job_inference\"\u001b[0m\n"
            ]
          },
          "metadata": {},
          "output_type": "display_data"
        },
        {
          "data": {
            "text/html": [
              "<pre style=\"white-space:pre;overflow-x:auto;line-height:normal;font-family:Menlo,'DejaVu Sans Mono',consolas,'Courier New',monospace\">┏━━━━━━━━━━━━━━━━━━━━━━━━━━━━━━━━━┳━━━━━━━━━━━━━━━━━━━━━━━━┳━━━━━━━━━━━━━━━┓\n",
              "┃<span style=\"font-weight: bold\"> Layer (type)                    </span>┃<span style=\"font-weight: bold\"> Output Shape           </span>┃<span style=\"font-weight: bold\">       Param # </span>┃\n",
              "┡━━━━━━━━━━━━━━━━━━━━━━━━━━━━━━━━━╇━━━━━━━━━━━━━━━━━━━━━━━━╇━━━━━━━━━━━━━━━┩\n",
              "│ job_input (<span style=\"color: #0087ff; text-decoration-color: #0087ff\">InputLayer</span>)          │ (<span style=\"color: #00d7ff; text-decoration-color: #00d7ff\">None</span>, <span style=\"color: #00af00; text-decoration-color: #00af00\">192</span>)            │             <span style=\"color: #00af00; text-decoration-color: #00af00\">0</span> │\n",
              "├─────────────────────────────────┼────────────────────────┼───────────────┤\n",
              "│ job_encoder (<span style=\"color: #0087ff; text-decoration-color: #0087ff\">Functional</span>)        │ (<span style=\"color: #00d7ff; text-decoration-color: #00d7ff\">None</span>, <span style=\"color: #00af00; text-decoration-color: #00af00\">128</span>)            │        <span style=\"color: #00af00; text-decoration-color: #00af00\">98,816</span> │\n",
              "├─────────────────────────────────┼────────────────────────┼───────────────┤\n",
              "│ lambda_3 (<span style=\"color: #0087ff; text-decoration-color: #0087ff\">Lambda</span>)               │ (<span style=\"color: #00d7ff; text-decoration-color: #00d7ff\">None</span>, <span style=\"color: #00af00; text-decoration-color: #00af00\">128</span>)            │             <span style=\"color: #00af00; text-decoration-color: #00af00\">0</span> │\n",
              "└─────────────────────────────────┴────────────────────────┴───────────────┘\n",
              "</pre>\n"
            ],
            "text/plain": [
              "┏━━━━━━━━━━━━━━━━━━━━━━━━━━━━━━━━━┳━━━━━━━━━━━━━━━━━━━━━━━━┳━━━━━━━━━━━━━━━┓\n",
              "┃\u001b[1m \u001b[0m\u001b[1mLayer (type)                   \u001b[0m\u001b[1m \u001b[0m┃\u001b[1m \u001b[0m\u001b[1mOutput Shape          \u001b[0m\u001b[1m \u001b[0m┃\u001b[1m \u001b[0m\u001b[1m      Param #\u001b[0m\u001b[1m \u001b[0m┃\n",
              "┡━━━━━━━━━━━━━━━━━━━━━━━━━━━━━━━━━╇━━━━━━━━━━━━━━━━━━━━━━━━╇━━━━━━━━━━━━━━━┩\n",
              "│ job_input (\u001b[38;5;33mInputLayer\u001b[0m)          │ (\u001b[38;5;45mNone\u001b[0m, \u001b[38;5;34m192\u001b[0m)            │             \u001b[38;5;34m0\u001b[0m │\n",
              "├─────────────────────────────────┼────────────────────────┼───────────────┤\n",
              "│ job_encoder (\u001b[38;5;33mFunctional\u001b[0m)        │ (\u001b[38;5;45mNone\u001b[0m, \u001b[38;5;34m128\u001b[0m)            │        \u001b[38;5;34m98,816\u001b[0m │\n",
              "├─────────────────────────────────┼────────────────────────┼───────────────┤\n",
              "│ lambda_3 (\u001b[38;5;33mLambda\u001b[0m)               │ (\u001b[38;5;45mNone\u001b[0m, \u001b[38;5;34m128\u001b[0m)            │             \u001b[38;5;34m0\u001b[0m │\n",
              "└─────────────────────────────────┴────────────────────────┴───────────────┘\n"
            ]
          },
          "metadata": {},
          "output_type": "display_data"
        },
        {
          "data": {
            "text/html": [
              "<pre style=\"white-space:pre;overflow-x:auto;line-height:normal;font-family:Menlo,'DejaVu Sans Mono',consolas,'Courier New',monospace\"><span style=\"font-weight: bold\"> Total params: </span><span style=\"color: #00af00; text-decoration-color: #00af00\">98,816</span> (386.00 KB)\n",
              "</pre>\n"
            ],
            "text/plain": [
              "\u001b[1m Total params: \u001b[0m\u001b[38;5;34m98,816\u001b[0m (386.00 KB)\n"
            ]
          },
          "metadata": {},
          "output_type": "display_data"
        },
        {
          "data": {
            "text/html": [
              "<pre style=\"white-space:pre;overflow-x:auto;line-height:normal;font-family:Menlo,'DejaVu Sans Mono',consolas,'Courier New',monospace\"><span style=\"font-weight: bold\"> Trainable params: </span><span style=\"color: #00af00; text-decoration-color: #00af00\">98,816</span> (386.00 KB)\n",
              "</pre>\n"
            ],
            "text/plain": [
              "\u001b[1m Trainable params: \u001b[0m\u001b[38;5;34m98,816\u001b[0m (386.00 KB)\n"
            ]
          },
          "metadata": {},
          "output_type": "display_data"
        },
        {
          "data": {
            "text/html": [
              "<pre style=\"white-space:pre;overflow-x:auto;line-height:normal;font-family:Menlo,'DejaVu Sans Mono',consolas,'Courier New',monospace\"><span style=\"font-weight: bold\"> Non-trainable params: </span><span style=\"color: #00af00; text-decoration-color: #00af00\">0</span> (0.00 B)\n",
              "</pre>\n"
            ],
            "text/plain": [
              "\u001b[1m Non-trainable params: \u001b[0m\u001b[38;5;34m0\u001b[0m (0.00 B)\n"
            ]
          },
          "metadata": {},
          "output_type": "display_data"
        }
      ],
      "source": [
        "# Define the dual-encoder model architecture\n",
        "\n",
        "def create_embedding_model(input_dim, name=None):\n",
        "    \"\"\"Create an encoder model that converts features to embeddings\"\"\"\n",
        "    inputs = tf.keras.layers.Input(shape=(input_dim,))\n",
        "\n",
        "    # First dense layer with dropout\n",
        "    x = tf.keras.layers.Dense(256, activation='relu')(inputs)\n",
        "    x = tf.keras.layers.Dropout(0.2)(x)\n",
        "\n",
        "    # Second dense layer\n",
        "    x = tf.keras.layers.Dense(128, activation='relu')(x)\n",
        "\n",
        "    # Final embedding layer (no activation for embeddings)\n",
        "    embedding = tf.keras.layers.Dense(128)(x)\n",
        "\n",
        "    # Create model\n",
        "    model = tf.keras.Model(inputs=inputs, outputs=embedding, name=name)\n",
        "    return model\n",
        "\n",
        "def create_matching_model(candidate_input_dim, job_input_dim):\n",
        "    \"\"\"Create the complete matching model with both encoders\"\"\"\n",
        "\n",
        "    # Create encoders\n",
        "    candidate_encoder = create_embedding_model(candidate_input_dim, \"candidate_encoder\")\n",
        "    job_encoder = create_embedding_model(job_input_dim, \"job_encoder\")\n",
        "\n",
        "    # Create inputs\n",
        "    candidate_input = tf.keras.layers.Input(shape=(candidate_input_dim,), name=\"candidate_input\")\n",
        "    job_input = tf.keras.layers.Input(shape=(job_input_dim,), name=\"job_input\")\n",
        "\n",
        "    # Get embeddings from encoders\n",
        "    candidate_embedding = candidate_encoder(candidate_input)\n",
        "    job_embedding = job_encoder(job_input)\n",
        "\n",
        "    # Normalize embeddings (for cosine similarity)\n",
        "    normalized_candidate = tf.keras.layers.Lambda(\n",
        "        lambda x: tf.math.l2_normalize(x, axis=1),\n",
        "        output_shape=lambda shape: shape\n",
        "    )(candidate_embedding)\n",
        "\n",
        "    normalized_job = tf.keras.layers.Lambda(\n",
        "        lambda x: tf.math.l2_normalize(x, axis=1),\n",
        "        output_shape=lambda shape: shape\n",
        "    )(job_embedding)\n",
        "\n",
        "    # Calculate similarity (dot product of normalized vectors = cosine similarity)\n",
        "    similarity = tf.keras.layers.Dot(axes=1)([normalized_candidate, normalized_job])\n",
        "\n",
        "    # Scale the similarity to produce a match score\n",
        "    match_score = tf.keras.layers.Dense(1, activation='sigmoid')(similarity)\n",
        "\n",
        "    # Create the complete model\n",
        "    model = tf.keras.Model(\n",
        "        inputs=[candidate_input, job_input],\n",
        "        outputs=match_score,\n",
        "        name=\"matching_model\"\n",
        "    )\n",
        "\n",
        "    # Also create separate models for inference\n",
        "    candidate_model = tf.keras.Model(\n",
        "        inputs=candidate_input,\n",
        "        outputs=normalized_candidate,\n",
        "        name=\"candidate_inference\"\n",
        "    )\n",
        "\n",
        "    job_model = tf.keras.Model(\n",
        "        inputs=job_input,\n",
        "        outputs=normalized_job,\n",
        "        name=\"job_inference\"\n",
        "    )\n",
        "\n",
        "    return model, candidate_model, job_model\n",
        "\n",
        "\n",
        "# Create the models\n",
        "matching_model, candidate_model, job_model = create_matching_model(\n",
        "    candidate_input_dim=candidate_features.shape[1],\n",
        "    job_input_dim=job_features.shape[1]\n",
        ")\n",
        "\n",
        "# Print model summaries\n",
        "print(\"Matching Model Summary:\")\n",
        "matching_model.summary()\n",
        "\n",
        "print(\"\\nCandidate Model Summary:\")\n",
        "candidate_model.summary()\n",
        "\n",
        "print(\"\\nJob Model Summary:\")\n",
        "job_model.summary()"
      ]
    },
    {
      "cell_type": "code",
      "execution_count": 22,
      "metadata": {
        "colab": {
          "base_uri": "https://localhost:8080/"
        },
        "id": "QyniIdeK-Rh3",
        "outputId": "1254c6e1-7e22-4a57-9931-9b08c40d235b"
      },
      "outputs": [
        {
          "name": "stdout",
          "output_type": "stream",
          "text": [
            "Epoch 1/20\n",
            "\u001b[1m75/75\u001b[0m \u001b[32m━━━━━━━━━━━━━━━━━━━━\u001b[0m\u001b[37m\u001b[0m \u001b[1m5s\u001b[0m 17ms/step - loss: 0.0220 - mae: 0.1283 - val_loss: 0.0169 - val_mae: 0.1102\n",
            "Epoch 2/20\n",
            "\u001b[1m75/75\u001b[0m \u001b[32m━━━━━━━━━━━━━━━━━━━━\u001b[0m\u001b[37m\u001b[0m \u001b[1m1s\u001b[0m 9ms/step - loss: 0.0177 - mae: 0.1152 - val_loss: 0.0160 - val_mae: 0.1093\n",
            "Epoch 3/20\n",
            "\u001b[1m75/75\u001b[0m \u001b[32m━━━━━━━━━━━━━━━━━━━━\u001b[0m\u001b[37m\u001b[0m \u001b[1m1s\u001b[0m 8ms/step - loss: 0.0153 - mae: 0.1072 - val_loss: 0.0167 - val_mae: 0.1135\n",
            "Epoch 4/20\n",
            "\u001b[1m75/75\u001b[0m \u001b[32m━━━━━━━━━━━━━━━━━━━━\u001b[0m\u001b[37m\u001b[0m \u001b[1m1s\u001b[0m 8ms/step - loss: 0.0140 - mae: 0.1029 - val_loss: 0.0160 - val_mae: 0.1090\n",
            "Epoch 5/20\n",
            "\u001b[1m75/75\u001b[0m \u001b[32m━━━━━━━━━━━━━━━━━━━━\u001b[0m\u001b[37m\u001b[0m \u001b[1m1s\u001b[0m 8ms/step - loss: 0.0115 - mae: 0.0910 - val_loss: 0.0141 - val_mae: 0.0993\n",
            "Epoch 6/20\n",
            "\u001b[1m75/75\u001b[0m \u001b[32m━━━━━━━━━━━━━━━━━━━━\u001b[0m\u001b[37m\u001b[0m \u001b[1m1s\u001b[0m 8ms/step - loss: 0.0079 - mae: 0.0737 - val_loss: 0.0127 - val_mae: 0.0902\n",
            "Epoch 7/20\n",
            "\u001b[1m75/75\u001b[0m \u001b[32m━━━━━━━━━━━━━━━━━━━━\u001b[0m\u001b[37m\u001b[0m \u001b[1m1s\u001b[0m 8ms/step - loss: 0.0061 - mae: 0.0630 - val_loss: 0.0115 - val_mae: 0.0862\n",
            "Epoch 8/20\n",
            "\u001b[1m75/75\u001b[0m \u001b[32m━━━━━━━━━━━━━━━━━━━━\u001b[0m\u001b[37m\u001b[0m \u001b[1m1s\u001b[0m 10ms/step - loss: 0.0045 - mae: 0.0531 - val_loss: 0.0114 - val_mae: 0.0840\n",
            "Epoch 9/20\n",
            "\u001b[1m75/75\u001b[0m \u001b[32m━━━━━━━━━━━━━━━━━━━━\u001b[0m\u001b[37m\u001b[0m \u001b[1m1s\u001b[0m 8ms/step - loss: 0.0034 - mae: 0.0453 - val_loss: 0.0113 - val_mae: 0.0838\n",
            "Epoch 10/20\n",
            "\u001b[1m75/75\u001b[0m \u001b[32m━━━━━━━━━━━━━━━━━━━━\u001b[0m\u001b[37m\u001b[0m \u001b[1m1s\u001b[0m 8ms/step - loss: 0.0026 - mae: 0.0395 - val_loss: 0.0111 - val_mae: 0.0832\n",
            "Epoch 11/20\n",
            "\u001b[1m75/75\u001b[0m \u001b[32m━━━━━━━━━━━━━━━━━━━━\u001b[0m\u001b[37m\u001b[0m \u001b[1m1s\u001b[0m 9ms/step - loss: 0.0023 - mae: 0.0373 - val_loss: 0.0113 - val_mae: 0.0823\n",
            "Epoch 12/20\n",
            "\u001b[1m75/75\u001b[0m \u001b[32m━━━━━━━━━━━━━━━━━━━━\u001b[0m\u001b[37m\u001b[0m \u001b[1m1s\u001b[0m 8ms/step - loss: 0.0019 - mae: 0.0339 - val_loss: 0.0113 - val_mae: 0.0828\n",
            "Epoch 13/20\n",
            "\u001b[1m75/75\u001b[0m \u001b[32m━━━━━━━━━━━━━━━━━━━━\u001b[0m\u001b[37m\u001b[0m \u001b[1m1s\u001b[0m 8ms/step - loss: 0.0018 - mae: 0.0332 - val_loss: 0.0113 - val_mae: 0.0824\n"
          ]
        }
      ],
      "source": [
        "# Train the model\n",
        "\n",
        "# Compile the matching model\n",
        "matching_model.compile(\n",
        "    optimizer=tf.keras.optimizers.Adam(learning_rate=0.001),\n",
        "    loss='mean_squared_error',\n",
        "    metrics=['mae']\n",
        ")\n",
        "\n",
        "# Create training and validation data\n",
        "X_train = [\n",
        "    candidate_features[train_pairs[train_indices, 0]].toarray(),\n",
        "    job_features[train_pairs[train_indices, 1]].toarray()\n",
        "]\n",
        "y_train = match_scores[train_indices]\n",
        "\n",
        "X_val = [\n",
        "    candidate_features[train_pairs[val_indices, 0]].toarray(),\n",
        "    job_features[train_pairs[val_indices, 1]].toarray()\n",
        "]\n",
        "y_val = match_scores[val_indices]\n",
        "\n",
        "# Train the model\n",
        "history = matching_model.fit(\n",
        "    X_train,\n",
        "    y_train,\n",
        "    validation_data=(X_val, y_val),\n",
        "    batch_size=32,\n",
        "    epochs=20,\n",
        "    callbacks=[\n",
        "        tf.keras.callbacks.EarlyStopping(\n",
        "            patience=3,\n",
        "            restore_best_weights=True\n",
        "        )\n",
        "    ]\n",
        ")"
      ]
    },
    {
      "cell_type": "code",
      "execution_count": 23,
      "metadata": {
        "colab": {
          "base_uri": "https://localhost:8080/",
          "height": 507
        },
        "id": "g-_QTrkk-9av",
        "outputId": "ab2b571a-cd0e-4a9f-a5d9-a0c38034e4b9"
      },
      "outputs": [
        {
          "data": {
            "image/png": "[encoded data removed]",
            "text/plain": [
              "<Figure size 1200x500 with 2 Axes>"
            ]
          },
          "metadata": {},
          "output_type": "display_data"
        }
      ],
      "source": [
        "# Visualize training results\n",
        "\n",
        "# Plot training and validation loss\n",
        "plt.figure(figsize=(12, 5))\n",
        "\n",
        "plt.subplot(1, 2, 1)\n",
        "plt.plot(history.history['loss'])\n",
        "plt.plot(history.history['val_loss'])\n",
        "plt.title('Model Loss')\n",
        "plt.ylabel('Loss')\n",
        "plt.xlabel('Epoch')\n",
        "plt.legend(['Train', 'Validation'], loc='upper right')\n",
        "\n",
        "plt.subplot(1, 2, 2)\n",
        "plt.plot(history.history['mae'])\n",
        "plt.plot(history.history['val_mae'])\n",
        "plt.title('Mean Absolute Error')\n",
        "plt.ylabel('MAE')\n",
        "plt.xlabel('Epoch')\n",
        "plt.legend(['Train', 'Validation'], loc='upper right')\n",
        "\n",
        "plt.tight_layout()\n",
        "plt.show()"
      ]
    },
    {
      "cell_type": "code",
      "execution_count": 24,
      "metadata": {
        "colab": {
          "base_uri": "https://localhost:8080/"
        },
        "id": "p-fhBPPb_mda",
        "outputId": "a9712bee-d3c2-4fbd-8823-4251ce96721f"
      },
      "outputs": [
        {
          "name": "stdout",
          "output_type": "stream",
          "text": [
            "Example match predictions:\n",
            "\u001b[1m1/1\u001b[0m \u001b[32m━━━━━━━━━━━━━━━━━━━━\u001b[0m\u001b[37m\u001b[0m \u001b[1m0s\u001b[0m 251ms/step\n",
            "Candidate 1 - Job 1: Score = 0.5308\n",
            "\u001b[1m1/1\u001b[0m \u001b[32m━━━━━━━━━━━━━━━━━━━━\u001b[0m\u001b[37m\u001b[0m \u001b[1m0s\u001b[0m 79ms/step\n",
            "Candidate 1 - Job 2: Score = 0.4727\n",
            "\u001b[1m1/1\u001b[0m \u001b[32m━━━━━━━━━━━━━━━━━━━━\u001b[0m\u001b[37m\u001b[0m \u001b[1m0s\u001b[0m 77ms/step\n",
            "Candidate 2 - Job 1: Score = 0.5705\n",
            "\u001b[1m1/1\u001b[0m \u001b[32m━━━━━━━━━━━━━━━━━━━━\u001b[0m\u001b[37m\u001b[0m \u001b[1m0s\u001b[0m 94ms/step\n",
            "Candidate 2 - Job 2: Score = 0.6513\n"
          ]
        }
      ],
      "source": [
        "# Evaluate the model on some examples\n",
        "\n",
        "def predict_match_score(candidate_idx, job_idx):\n",
        "    \"\"\"Predict match score between a candidate and job\"\"\"\n",
        "    # Get feature vectors\n",
        "    candidate_vector = candidate_features[candidate_idx].toarray().reshape(1, -1)\n",
        "    job_vector = job_features[job_idx].toarray().reshape(1, -1)\n",
        "\n",
        "    # Predict match score\n",
        "    score = matching_model.predict([candidate_vector, job_vector])[0][0]\n",
        "\n",
        "    return score\n",
        "\n",
        "# Select a few examples to test\n",
        "test_examples = [\n",
        "    (0, 0),  # First candidate, first job\n",
        "    (0, 1),  # First candidate, second job\n",
        "    (1, 0),  # Second candidate, first job\n",
        "    (1, 1)   # Second candidate, second job\n",
        "]\n",
        "\n",
        "print(\"Example match predictions:\")\n",
        "for candidate_idx, job_idx in test_examples:\n",
        "    score = predict_match_score(candidate_idx, job_idx)\n",
        "    print(f\"Candidate {candidates_df.iloc[candidate_idx]['id']} - \"\n",
        "          f\"Job {jobs_df.iloc[job_idx]['id']}: \"\n",
        "          f\"Score = {score:.4f}\")"
      ]
    },
    {
      "cell_type": "code",
      "execution_count": 25,
      "metadata": {
        "colab": {
          "base_uri": "https://localhost:8080/"
        },
        "id": "ZBPdcyyQAQ9A",
        "outputId": "d37fc33f-9d8c-4f18-8bbc-d10f9eff7e4f"
      },
      "outputs": [
        {
          "name": "stdout",
          "output_type": "stream",
          "text": [
            "\u001b[1m1/1\u001b[0m \u001b[32m━━━━━━━━━━━━━━━━━━━━\u001b[0m\u001b[37m\u001b[0m \u001b[1m0s\u001b[0m 125ms/step\n",
            "WARNING:tensorflow:5 out of the last 38 calls to <function TensorFlowTrainer.make_predict_function.<locals>.one_step_on_data_distributed at 0x0000020ADD2C55A0> triggered tf.function retracing. Tracing is expensive and the excessive number of tracings could be due to (1) creating @tf.function repeatedly in a loop, (2) passing tensors with different shapes, (3) passing Python objects instead of tensors. For (1), please define your @tf.function outside of the loop. For (2), @tf.function has reduce_retracing=True option that can avoid unnecessary retracing. For (3), please refer to https://www.tensorflow.org/guide/function#controlling_retracing and https://www.tensorflow.org/api_docs/python/tf/function for  more details.\n",
            "\u001b[1m32/32\u001b[0m \u001b[32m━━━━━━━━━━━━━━━━━━━━\u001b[0m\u001b[37m\u001b[0m \u001b[1m0s\u001b[0m 6ms/step\n",
            "Top matching jobs for Candidate 4:\n",
            "Skills: differentiated instruction instructional design lesson planning stem education blackboard canvas student support\n",
            "Experience: 8 years\n",
            "Education: Bachelor\n",
            "\n",
            "Top 5 matching jobs:\n",
            "1. School Counselor (ID: 870) - Score: 0.7909\n",
            "   Required skills: academic writing instructional design educational administration\n",
            "\n",
            "2. Online Instructor (ID: 379) - Score: 0.7838\n",
            "   Required skills: educational technology educational leadership moodle educational administration academic writing student assessment\n",
            "\n",
            "3. ESL Teacher (ID: 931) - Score: 0.7753\n",
            "   Required skills: student assessment google classroom student engagement special education educational psychology educational administration\n",
            "\n",
            "4. Special Education Teacher (ID: 544) - Score: 0.7577\n",
            "   Required skills: academic advising student assessment educational technology research iep development\n",
            "\n",
            "5. Superintendent (ID: 669) - Score: 0.7537\n",
            "   Required skills: iep development curriculum development instructional design lms educational technology educational leadership\n",
            "\n"
          ]
        }
      ],
      "source": [
        "# Find top matching jobs for a candidate\n",
        "\n",
        "def find_top_matching_jobs(candidate_idx, top_n=5):\n",
        "    \"\"\"Find the top N matching jobs for a candidate\"\"\"\n",
        "    # Get candidate embedding\n",
        "    candidate_vector = candidate_features[candidate_idx].toarray().reshape(1, -1)\n",
        "    candidate_embedding = candidate_model.predict(candidate_vector)\n",
        "\n",
        "    # Compute similarity with all jobs\n",
        "    all_job_vectors = job_features.toarray()\n",
        "    all_job_embeddings = job_model.predict(all_job_vectors)\n",
        "\n",
        "    # Calculate cosine similarity (dot product of normalized vectors)\n",
        "    similarities = np.dot(candidate_embedding, all_job_embeddings.T)[0]\n",
        "\n",
        "    # Get top N job indices\n",
        "    top_job_indices = np.argsort(similarities)[::-1][:top_n]\n",
        "\n",
        "    # Return job information with scores\n",
        "    results = []\n",
        "    for job_idx in top_job_indices:\n",
        "        job = jobs_df.iloc[job_idx]\n",
        "        score = similarities[job_idx]\n",
        "\n",
        "        results.append({\n",
        "            'job_id': job['id'],\n",
        "            'title': job['title'],\n",
        "            'required_skills': job['required_skills'],\n",
        "            'match_score': float(score)\n",
        "        })\n",
        "\n",
        "    return results\n",
        "\n",
        "# Test for a specific candidate\n",
        "candidate_idx = 3  # Fourth candidate\n",
        "top_jobs = find_top_matching_jobs(candidate_idx, top_n=5)\n",
        "\n",
        "print(f\"Top matching jobs for Candidate {candidates_df.iloc[candidate_idx]['id']}:\")\n",
        "print(f\"Skills: {candidates_df.iloc[candidate_idx]['skills']}\")\n",
        "print(f\"Experience: {candidates_df.iloc[candidate_idx]['experience']} years\")\n",
        "print(f\"Education: {candidates_df.iloc[candidate_idx]['education']}\")\n",
        "print(\"\\nTop 5 matching jobs:\")\n",
        "for i, job in enumerate(top_jobs, 1):\n",
        "    print(f\"{i}. {job['title']} (ID: {job['job_id']}) - Score: {job['match_score']:.4f}\")\n",
        "    print(f\"   Required skills: {job['required_skills']}\")\n",
        "    print()"
      ]
    },
    {
      "cell_type": "code",
      "execution_count": 26,
      "metadata": {
        "colab": {
          "base_uri": "https://localhost:8080/",
          "height": 228
        },
        "id": "lMXQvjgwBQXE",
        "outputId": "68fd5332-1925-49c9-8094-0900852ea483"
      },
      "outputs": [
        {
          "name": "stdout",
          "output_type": "stream",
          "text": [
            "Models and preprocessors saved successfully in ai_models folder!\n"
          ]
        }
      ],
      "source": [
        "# Define the final save directory\n",
        "SAVE_DIR = 'D:/Projects/DJ/job_matching/website/job_matching/ai_models'\n",
        "os.makedirs(SAVE_DIR, exist_ok=True)\n",
        "\n",
        "# Save the models in .keras format (recommended for TF2+)\n",
        "matching_model.save(os.path.join(SAVE_DIR, 'matching_model.keras'))\n",
        "candidate_model.save(os.path.join(SAVE_DIR, 'candidate_model.keras'))\n",
        "job_model.save(os.path.join(SAVE_DIR, 'job_model.keras'))\n",
        "\n",
        "# Save the preprocessors as .pkl\n",
        "with open(os.path.join(SAVE_DIR, 'candidate_preprocessor.pkl'), 'wb') as f:\n",
        "    pickle.dump(candidate_preprocessor, f)\n",
        "\n",
        "with open(os.path.join(SAVE_DIR, 'job_preprocessor.pkl'), 'wb') as f:\n",
        "    pickle.dump(job_preprocessor, f)\n",
        "\n",
        "print(\"Models and preprocessors saved successfully in ai_models folder!\")"
      ]
    },
    {
      "cell_type": "code",
      "execution_count": null,
      "metadata": {
        "id": "_9z-Sj3JCRXu"
      },
      "outputs": [],
      "source": []
    }
  ],
  "metadata": {
    "colab": {
      "authorship_tag": "ABX9TyN7XmB0on6GWT9A4iAl6Nhp",
      "include_colab_link": true,
      "mount_file_id": "1fGfyFw-nmdVuLQd6wScWvXPKE8h8HqJJ",
      "provenance": []
    },
    "kernelspec": {
      "display_name": "venv",
      "language": "python",
      "name": "python3"
    },
    "language_info": {
      "codemirror_mode": {
        "name": "ipython",
        "version": 3
      },
      "file_extension": ".py",
      "mimetype": "text/x-python",
      "name": "python",
      "nbconvert_exporter": "python",
      "pygments_lexer": "ipython3",
      "version": "3.10.0"
    }
  },
  "nbformat": 4,
  "nbformat_minor": 0
}
